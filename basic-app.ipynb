{
 "cells": [
  {
   "cell_type": "code",
   "execution_count": 1,
   "id": "d7652f40",
   "metadata": {},
   "outputs": [],
   "source": [
    "from fastapi import FastAPI\n",
    "import uvicorn\n",
    "from sklearn.datasets import load_iris\n",
    "from sklearn.naive_bayes import GaussianNB\n",
    "from pydantic import BaseModel\n",
    " \n",
    "# Creating FastAPI instance\n",
    "app = FastAPI()\n",
    " \n",
    "# Creating class to define the request body\n",
    "# and the type hints of each attribute\n",
    "class request_body(BaseModel):\n",
    "    sepal_length : float\n",
    "    sepal_width : float\n",
    "    petal_length : float\n",
    "    petal_width : float\n",
    " \n",
    "# Loading Iris Dataset\n",
    "iris = load_iris()\n",
    " \n",
    "# Getting our Features and Targets\n",
    "X = iris.data\n",
    "Y = iris.target\n",
    " \n",
    "# Creating and Fitting our Model\n",
    "clf = GaussianNB()\n",
    "clf.fit(X,Y)\n",
    " \n",
    "# Creating an Endpoint to receive the data\n",
    "# to make prediction on.\n",
    "@app.post('/predict')\n",
    "def predict(data : request_body):\n",
    "    # Making the data in a form suitable for prediction\n",
    "    test_data = [[\n",
    "            data.sepal_length,\n",
    "            data.sepal_width,\n",
    "            data.petal_length,\n",
    "            data.petal_width\n",
    "    ]]\n",
    "     \n",
    "    # Predicting the Class\n",
    "    class_idx = clf.predict(test_data)[0]\n",
    "     \n",
    "    # Return the Result\n",
    "    return { 'class' : iris.target_names[class_idx]}"
   ]
  },
  {
   "cell_type": "code",
   "execution_count": null,
   "id": "e03a4eed",
   "metadata": {},
   "outputs": [],
   "source": [
    "uvicorn basic-app:app --reload"
   ]
  }
 ],
 "metadata": {
  "kernelspec": {
   "display_name": "Python 3 (ipykernel)",
   "language": "python",
   "name": "python3"
  },
  "language_info": {
   "codemirror_mode": {
    "name": "ipython",
    "version": 3
   },
   "file_extension": ".py",
   "mimetype": "text/x-python",
   "name": "python",
   "nbconvert_exporter": "python",
   "pygments_lexer": "ipython3",
   "version": "3.9.12"
  }
 },
 "nbformat": 4,
 "nbformat_minor": 5
}
